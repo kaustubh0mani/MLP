{
 "cells": [
  {
   "cell_type": "code",
   "execution_count": 1,
   "metadata": {
    "collapsed": true
   },
   "outputs": [],
   "source": [
    "%matplotlib inline\n",
    "import matplotlib.pyplot as plt\n",
    "import numpy as np\n",
    "import pickle as pkl\n",
    "import tensorflow as tf\n",
    "from sklearn.metrics import *\n",
    "import seaborn as sns"
   ]
  },
  {
   "cell_type": "code",
   "execution_count": 2,
   "metadata": {
    "collapsed": false
   },
   "outputs": [],
   "source": [
    "wordvec = open(\"x_train_TITLES.p\",\"r\")\n",
    "data  = pkl.load(wordvec)"
   ]
  },
  {
   "cell_type": "code",
   "execution_count": 3,
   "metadata": {
    "collapsed": false
   },
   "outputs": [],
   "source": [
    "data = np.array(data)\n",
    "y = open(\"y_train_TITLES.p\",\"r\")\n",
    "labels = pkl.load(y)\n",
    "labels = np.array(labels)"
   ]
  },
  {
   "cell_type": "code",
   "execution_count": 4,
   "metadata": {
    "collapsed": true
   },
   "outputs": [],
   "source": [
    "test_file = open(\"x_test_TITLES.p\",\"r\")\n",
    "test_data = pkl.load(test_file)\n",
    "\n",
    "y_test = open(\"y_test_TITLES.p\",\"r\")\n",
    "test_labels = pkl.load(y_test)\n",
    "\n",
    "test_data = np.array(test_data)\n",
    "test_labels = np.array(test_labels)"
   ]
  },
  {
   "cell_type": "code",
   "execution_count": 5,
   "metadata": {
    "collapsed": false
   },
   "outputs": [
    {
     "data": {
      "text/plain": [
       "<matplotlib.text.Text at 0x11998f3d0>"
      ]
     },
     "execution_count": 5,
     "metadata": {},
     "output_type": "execute_result"
    },
    {
     "data": {
      "image/png": "[encoded data removed]",
      "text/plain": [
       "<matplotlib.figure.Figure at 0x111027750>"
      ]
     },
     "metadata": {},
     "output_type": "display_data"
    }
   ],
   "source": [
    "sns.countplot(labels)\n",
    "plt.title(\"Class Distribution\")"
   ]
  },
  {
   "cell_type": "code",
   "execution_count": 6,
   "metadata": {
    "collapsed": true
   },
   "outputs": [],
   "source": [
    "# Data Preprocessing\n",
    "\n",
    "# Oversampling the data to remove class imbalance problem\n",
    "\n",
    "unq, unq_idx = np.unique(labels, return_inverse=True)\n",
    "unq_cnt = np.bincount(unq_idx)\n",
    "cnt = np.max(unq_cnt)\n",
    "new_labels = np.empty((cnt*len(unq),) + labels.shape[1:], labels.dtype)\n",
    "new_data = np.empty((cnt*len(unq),) + data.shape[1:], data.dtype)\n",
    "for j in xrange(len(unq)):\n",
    "    indices = np.random.choice(np.where(unq_idx==j)[0], cnt)\n",
    "    new_labels[j*cnt:(j+1)*cnt] = labels[indices]\n",
    "    new_data[j*cnt:(j+1)*cnt] = data[indices]"
   ]
  },
  {
   "cell_type": "code",
   "execution_count": 7,
   "metadata": {
    "collapsed": false
   },
   "outputs": [
    {
     "data": {
      "text/plain": [
       "<matplotlib.text.Text at 0x11c436d10>"
      ]
     },
     "execution_count": 7,
     "metadata": {},
     "output_type": "execute_result"
    },
    {
     "data": {
      "image/png": "[encoded data removed]",
      "text/plain": [
       "<matplotlib.figure.Figure at 0x111044150>"
      ]
     },
     "metadata": {},
     "output_type": "display_data"
    }
   ],
   "source": [
    "sns.countplot(new_labels)\n",
    "plt.title(\"Class Distribution\")"
   ]
  },
  {
   "cell_type": "code",
   "execution_count": 8,
   "metadata": {
    "collapsed": false
   },
   "outputs": [],
   "source": [
    "maxIter = 1000\n",
    "batch_size = 200\n",
    "learningRate = 0.001"
   ]
  },
  {
   "cell_type": "code",
   "execution_count": 9,
   "metadata": {
    "collapsed": false
   },
   "outputs": [],
   "source": [
    "def mlp(input_data):\n",
    "    \n",
    "    w1 = tf.get_variable(\"w0\",[data.shape[1], 20], initializer=tf.random_normal_initializer())\n",
    "    b1 = tf.get_variable(\"b0\",[20], initializer=tf.constant_initializer(0.0))\n",
    "    w2 = tf.get_variable(\"w1\",[20, 15], initializer=tf.random_normal_initializer())\n",
    "    b2 = tf.get_variable(\"b1\",[15], initializer=tf.constant_initializer(0.0))\n",
    "    w3 = tf.get_variable(\"w2\",[15, 2], initializer=tf.random_normal_initializer())\n",
    "    b3 = tf.get_variable(\"b2\",[2], initializer=tf.constant_initializer(0.0))\n",
    "    \n",
    "    fc1 = tf.nn.relu(tf.add(tf.matmul(input_data,w1),b1))\n",
    "    fc2 = tf.nn.relu(tf.add(tf.matmul(fc1,w2),b2))\n",
    "    fc3 = tf.nn.relu(tf.add(tf.matmul(fc2,w3),b3))\n",
    "    \n",
    "    weights = [w1,b1,w2,b2,w3,b3]\n",
    "    \n",
    "    return fc3, weights\n",
    "    \n",
    "    "
   ]
  },
  {
   "cell_type": "code",
   "execution_count": 10,
   "metadata": {
    "collapsed": false
   },
   "outputs": [],
   "source": [
    "X = tf.placeholder(\"float\", [None, data.shape[1]])\n",
    "Y = tf.placeholder(\"float\", [None, 2])\n",
    "\n",
    "pred, weights = mlp(X)\n",
    "loss = tf.nn.softmax_cross_entropy_with_logits(pred, Y)\n",
    "optimizer = tf.train.AdamOptimizer(learning_rate=learningRate).minimize(loss)\n",
    "\n"
   ]
  },
  {
   "cell_type": "code",
   "execution_count": 11,
   "metadata": {
    "collapsed": false
   },
   "outputs": [],
   "source": [
    "# One Hot Encoding\n",
    "def one_hot(labels):\n",
    "    new_labels = []\n",
    "    for i in labels:\n",
    "        temp = np.zeros(2)\n",
    "        temp[i] = 1\n",
    "        new_labels.append(temp)\n",
    "\n",
    "    new_labels = np.array(new_labels)\n",
    "    return new_labels"
   ]
  },
  {
   "cell_type": "code",
   "execution_count": 12,
   "metadata": {
    "collapsed": false
   },
   "outputs": [],
   "source": [
    "new_labels = one_hot(new_labels)\n",
    "test_labels = one_hot(test_labels)"
   ]
  },
  {
   "cell_type": "code",
   "execution_count": 13,
   "metadata": {
    "collapsed": false
   },
   "outputs": [
    {
     "data": {
      "text/plain": [
       "array([[ 1.,  0.],\n",
       "       [ 1.,  0.],\n",
       "       [ 1.,  0.],\n",
       "       ..., \n",
       "       [ 1.,  0.],\n",
       "       [ 1.,  0.],\n",
       "       [ 1.,  0.]])"
      ]
     },
     "execution_count": 13,
     "metadata": {},
     "output_type": "execute_result"
    }
   ],
   "source": [
    "test_labels"
   ]
  },
  {
   "cell_type": "code",
   "execution_count": 14,
   "metadata": {
    "collapsed": false
   },
   "outputs": [],
   "source": [
    "right_pred = tf.equal(tf.argmax(Y,1),tf.argmax(pred,1))\n",
    "accuracy = tf.reduce_mean(tf.cast(right_pred, tf.float32))\n",
    "\n"
   ]
  },
  {
   "cell_type": "code",
   "execution_count": 13,
   "metadata": {
    "collapsed": false,
    "scrolled": false
   },
   "outputs": [
    {
     "name": "stdout",
     "output_type": "stream",
     "text": [
      "step 0, training accuracy 0.565217375755\n",
      "step 2, training accuracy 0.739130437374\n",
      "step 4, training accuracy 0.826086938381\n",
      "step 6, training accuracy 0.826086938381\n",
      "step 8, training accuracy 0.826086938381\n",
      "step 10, training accuracy 0.826086938381\n",
      "step 12, training accuracy 0.826086938381\n",
      "step 14, training accuracy 0.826086938381\n",
      "step 16, training accuracy 0.826086938381\n",
      "step 18, training accuracy 0.826086938381\n",
      "step 20, training accuracy 0.826086938381\n",
      "step 22, training accuracy 0.826086938381\n",
      "step 24, training accuracy 0.826086938381\n",
      "step 26, training accuracy 0.826086938381\n",
      "step 28, training accuracy 0.826086938381\n",
      "step 30, training accuracy 0.826086938381\n",
      "step 32, training accuracy 0.826086938381\n",
      "step 34, training accuracy 0.826086938381\n",
      "step 36, training accuracy 0.826086938381\n",
      "step 38, training accuracy 0.826086938381\n",
      "step 40, training accuracy 0.826086938381\n",
      "step 42, training accuracy 0.826086938381\n",
      "step 44, training accuracy 0.826086938381\n",
      "step 46, training accuracy 0.826086938381\n",
      "step 48, training accuracy 0.826086938381\n",
      "step 50, training accuracy 0.826086938381\n",
      "step 52, training accuracy 0.826086938381\n",
      "step 54, training accuracy 0.826086938381\n",
      "step 56, training accuracy 0.826086938381\n",
      "step 58, training accuracy 0.826086938381\n",
      "step 60, training accuracy 0.826086938381\n",
      "step 62, training accuracy 0.826086938381\n",
      "step 64, training accuracy 0.826086938381\n",
      "step 66, training accuracy 0.826086938381\n",
      "step 68, training accuracy 0.826086938381\n",
      "step 70, training accuracy 0.826086938381\n",
      "step 72, training accuracy 0.826086938381\n",
      "step 74, training accuracy 0.826086938381\n",
      "step 76, training accuracy 0.826086938381\n",
      "step 78, training accuracy 0.826086938381\n",
      "step 80, training accuracy 0.826086938381\n",
      "step 82, training accuracy 0.826086938381\n",
      "step 84, training accuracy 0.826086938381\n"
     ]
    },
    {
     "ename": "KeyboardInterrupt",
     "evalue": "",
     "output_type": "error",
     "traceback": [
      "\u001b[0;31m---------------------------------------------------------------------------\u001b[0m",
      "\u001b[0;31mKeyboardInterrupt\u001b[0m                         Traceback (most recent call last)",
      "\u001b[0;32m<ipython-input-13-d5b64a077160>\u001b[0m in \u001b[0;36m<module>\u001b[0;34m()\u001b[0m\n\u001b[1;32m     18\u001b[0m             \u001b[0mlabel\u001b[0m \u001b[0;34m=\u001b[0m \u001b[0mnew_labels\u001b[0m\u001b[0;34m[\u001b[0m\u001b[0mstart\u001b[0m\u001b[0;34m:\u001b[0m\u001b[0mend\u001b[0m\u001b[0;34m]\u001b[0m\u001b[0;34m\u001b[0m\u001b[0m\n\u001b[1;32m     19\u001b[0m \u001b[0;34m\u001b[0m\u001b[0m\n\u001b[0;32m---> 20\u001b[0;31m             \u001b[0msess\u001b[0m\u001b[0;34m.\u001b[0m\u001b[0mrun\u001b[0m\u001b[0;34m(\u001b[0m\u001b[0;34m[\u001b[0m\u001b[0mloss\u001b[0m\u001b[0;34m,\u001b[0m\u001b[0moptimizer\u001b[0m\u001b[0;34m]\u001b[0m\u001b[0;34m,\u001b[0m \u001b[0mfeed_dict\u001b[0m\u001b[0;34m=\u001b[0m\u001b[0;34m{\u001b[0m\u001b[0mX\u001b[0m\u001b[0;34m:\u001b[0m \u001b[0minput_data\u001b[0m\u001b[0;34m,\u001b[0m \u001b[0mY\u001b[0m\u001b[0;34m:\u001b[0m \u001b[0mlabel\u001b[0m\u001b[0;34m}\u001b[0m\u001b[0;34m)\u001b[0m\u001b[0;34m\u001b[0m\u001b[0m\n\u001b[0m\u001b[1;32m     21\u001b[0m \u001b[0;34m\u001b[0m\u001b[0m\n\u001b[1;32m     22\u001b[0m \u001b[0;34m\u001b[0m\u001b[0m\n",
      "\u001b[0;32m/usr/local/lib/python2.7/site-packages/tensorflow/python/client/session.pyc\u001b[0m in \u001b[0;36mrun\u001b[0;34m(self, fetches, feed_dict)\u001b[0m\n\u001b[1;32m    313\u001b[0m         \u001b[0;34m`\u001b[0m\u001b[0mTensor\u001b[0m\u001b[0;34m`\u001b[0m \u001b[0mthat\u001b[0m \u001b[0mdoesn\u001b[0m\u001b[0;31m'\u001b[0m\u001b[0mt\u001b[0m \u001b[0mexist\u001b[0m\u001b[0;34m.\u001b[0m\u001b[0;34m\u001b[0m\u001b[0m\n\u001b[1;32m    314\u001b[0m     \"\"\"\n\u001b[0;32m--> 315\u001b[0;31m     \u001b[0;32mreturn\u001b[0m \u001b[0mself\u001b[0m\u001b[0;34m.\u001b[0m\u001b[0m_run\u001b[0m\u001b[0;34m(\u001b[0m\u001b[0mNone\u001b[0m\u001b[0;34m,\u001b[0m \u001b[0mfetches\u001b[0m\u001b[0;34m,\u001b[0m \u001b[0mfeed_dict\u001b[0m\u001b[0;34m)\u001b[0m\u001b[0;34m\u001b[0m\u001b[0m\n\u001b[0m\u001b[1;32m    316\u001b[0m \u001b[0;34m\u001b[0m\u001b[0m\n\u001b[1;32m    317\u001b[0m   \u001b[0;32mdef\u001b[0m \u001b[0mpartial_run\u001b[0m\u001b[0;34m(\u001b[0m\u001b[0mself\u001b[0m\u001b[0;34m,\u001b[0m \u001b[0mhandle\u001b[0m\u001b[0;34m,\u001b[0m \u001b[0mfetches\u001b[0m\u001b[0;34m,\u001b[0m \u001b[0mfeed_dict\u001b[0m\u001b[0;34m=\u001b[0m\u001b[0mNone\u001b[0m\u001b[0;34m)\u001b[0m\u001b[0;34m:\u001b[0m\u001b[0;34m\u001b[0m\u001b[0m\n",
      "\u001b[0;32m/usr/local/lib/python2.7/site-packages/tensorflow/python/client/session.pyc\u001b[0m in \u001b[0;36m_run\u001b[0;34m(self, handle, fetches, feed_dict)\u001b[0m\n\u001b[1;32m    509\u001b[0m     \u001b[0;31m# Run request and get response.\u001b[0m\u001b[0;34m\u001b[0m\u001b[0;34m\u001b[0m\u001b[0m\n\u001b[1;32m    510\u001b[0m     results = self._do_run(handle, target_list, unique_fetches,\n\u001b[0;32m--> 511\u001b[0;31m                            feed_dict_string)\n\u001b[0m\u001b[1;32m    512\u001b[0m \u001b[0;34m\u001b[0m\u001b[0m\n\u001b[1;32m    513\u001b[0m     \u001b[0;31m# User may have fetched the same tensor multiple times, but we\u001b[0m\u001b[0;34m\u001b[0m\u001b[0;34m\u001b[0m\u001b[0m\n",
      "\u001b[0;32m/usr/local/lib/python2.7/site-packages/tensorflow/python/client/session.pyc\u001b[0m in \u001b[0;36m_do_run\u001b[0;34m(self, handle, target_list, fetch_list, feed_dict)\u001b[0m\n\u001b[1;32m    562\u001b[0m     \u001b[0;32mif\u001b[0m \u001b[0mhandle\u001b[0m \u001b[0;32mis\u001b[0m \u001b[0mNone\u001b[0m\u001b[0;34m:\u001b[0m\u001b[0;34m\u001b[0m\u001b[0m\n\u001b[1;32m    563\u001b[0m       return self._do_call(_run_fn, self._session, feed_dict, fetch_list,\n\u001b[0;32m--> 564\u001b[0;31m                            target_list)\n\u001b[0m\u001b[1;32m    565\u001b[0m     \u001b[0;32melse\u001b[0m\u001b[0;34m:\u001b[0m\u001b[0;34m\u001b[0m\u001b[0m\n\u001b[1;32m    566\u001b[0m       return self._do_call(_prun_fn, self._session, handle, feed_dict,\n",
      "\u001b[0;32m/usr/local/lib/python2.7/site-packages/tensorflow/python/client/session.pyc\u001b[0m in \u001b[0;36m_do_call\u001b[0;34m(self, fn, *args)\u001b[0m\n\u001b[1;32m    569\u001b[0m   \u001b[0;32mdef\u001b[0m \u001b[0m_do_call\u001b[0m\u001b[0;34m(\u001b[0m\u001b[0mself\u001b[0m\u001b[0;34m,\u001b[0m \u001b[0mfn\u001b[0m\u001b[0;34m,\u001b[0m \u001b[0;34m*\u001b[0m\u001b[0margs\u001b[0m\u001b[0;34m)\u001b[0m\u001b[0;34m:\u001b[0m\u001b[0;34m\u001b[0m\u001b[0m\n\u001b[1;32m    570\u001b[0m     \u001b[0;32mtry\u001b[0m\u001b[0;34m:\u001b[0m\u001b[0;34m\u001b[0m\u001b[0m\n\u001b[0;32m--> 571\u001b[0;31m       \u001b[0;32mreturn\u001b[0m \u001b[0mfn\u001b[0m\u001b[0;34m(\u001b[0m\u001b[0;34m*\u001b[0m\u001b[0margs\u001b[0m\u001b[0;34m)\u001b[0m\u001b[0;34m\u001b[0m\u001b[0m\n\u001b[0m\u001b[1;32m    572\u001b[0m     \u001b[0;32mexcept\u001b[0m \u001b[0mtf_session\u001b[0m\u001b[0;34m.\u001b[0m\u001b[0mStatusNotOK\u001b[0m \u001b[0;32mas\u001b[0m \u001b[0me\u001b[0m\u001b[0;34m:\u001b[0m\u001b[0;34m\u001b[0m\u001b[0m\n\u001b[1;32m    573\u001b[0m       \u001b[0me_type\u001b[0m\u001b[0;34m,\u001b[0m \u001b[0me_value\u001b[0m\u001b[0;34m,\u001b[0m \u001b[0me_traceback\u001b[0m \u001b[0;34m=\u001b[0m \u001b[0msys\u001b[0m\u001b[0;34m.\u001b[0m\u001b[0mexc_info\u001b[0m\u001b[0;34m(\u001b[0m\u001b[0;34m)\u001b[0m\u001b[0;34m\u001b[0m\u001b[0m\n",
      "\u001b[0;32m/usr/local/lib/python2.7/site-packages/tensorflow/python/client/session.pyc\u001b[0m in \u001b[0;36m_run_fn\u001b[0;34m(session, feed_dict, fetch_list, target_list)\u001b[0m\n\u001b[1;32m    553\u001b[0m       \u001b[0;31m# Ensure any changes to the graph are reflected in the runtime.\u001b[0m\u001b[0;34m\u001b[0m\u001b[0;34m\u001b[0m\u001b[0m\n\u001b[1;32m    554\u001b[0m       \u001b[0mself\u001b[0m\u001b[0;34m.\u001b[0m\u001b[0m_extend_graph\u001b[0m\u001b[0;34m(\u001b[0m\u001b[0;34m)\u001b[0m\u001b[0;34m\u001b[0m\u001b[0m\n\u001b[0;32m--> 555\u001b[0;31m       \u001b[0;32mreturn\u001b[0m \u001b[0mtf_session\u001b[0m\u001b[0;34m.\u001b[0m\u001b[0mTF_Run\u001b[0m\u001b[0;34m(\u001b[0m\u001b[0msession\u001b[0m\u001b[0;34m,\u001b[0m \u001b[0mfeed_dict\u001b[0m\u001b[0;34m,\u001b[0m \u001b[0mfetch_list\u001b[0m\u001b[0;34m,\u001b[0m \u001b[0mtarget_list\u001b[0m\u001b[0;34m)\u001b[0m\u001b[0;34m\u001b[0m\u001b[0m\n\u001b[0m\u001b[1;32m    556\u001b[0m \u001b[0;34m\u001b[0m\u001b[0m\n\u001b[1;32m    557\u001b[0m     \u001b[0;32mdef\u001b[0m \u001b[0m_prun_fn\u001b[0m\u001b[0;34m(\u001b[0m\u001b[0msession\u001b[0m\u001b[0;34m,\u001b[0m \u001b[0mhandle\u001b[0m\u001b[0;34m,\u001b[0m \u001b[0mfeed_dict\u001b[0m\u001b[0;34m,\u001b[0m \u001b[0mfetch_list\u001b[0m\u001b[0;34m)\u001b[0m\u001b[0;34m:\u001b[0m\u001b[0;34m\u001b[0m\u001b[0m\n",
      "\u001b[0;31mKeyboardInterrupt\u001b[0m: "
     ]
    }
   ],
   "source": [
    "num_batch = data.shape[0]/batch_size + 1\n",
    "\n",
    "with tf.Session() as sess:\n",
    "    \n",
    "    tf.initialize_all_variables().run()\n",
    "    \n",
    "    for it in range(maxIter):\n",
    "        for i in range(num_batch):            \n",
    "            \n",
    "            start = i*batch_size\n",
    "            if (i == num_batch-1):\n",
    "                end = data.shape[0]\n",
    "            else:\n",
    "                end = (i+1)*batch_size\n",
    "            \n",
    "            input_data = data[start:end]\n",
    "            \n",
    "            label = new_labels[start:end]\n",
    "            \n",
    "            sess.run([loss,optimizer], feed_dict={X: input_data, Y: label})\n",
    "            \n",
    "        \n",
    "            \n",
    "            \n",
    "        if it % 2 == 0:\n",
    "            train_Accuracy = accuracy.eval(feed_dict={X: input_data, Y: label})\n",
    "\n",
    "            print('step {0}, training accuracy {1}'.format(it, train_Accuracy))            "
   ]
  },
  {
   "cell_type": "code",
   "execution_count": 15,
   "metadata": {
    "collapsed": false
   },
   "outputs": [
    {
     "name": "stdout",
     "output_type": "stream",
     "text": [
      "step 0, training accuracy 0.565008580685 \n",
      "step 100, training accuracy 0.784219563007 \n",
      "step 200, training accuracy 0.840137243271 \n",
      "step 300, training accuracy 0.857289850712 \n",
      "step 400, training accuracy 0.867581486702 \n",
      "step 500, training accuracy 0.871698141098 \n",
      "step 600, training accuracy 0.875128626823 \n",
      "step 700, training accuracy 0.880274415016 \n",
      "step 800, training accuracy 0.881646633148 \n",
      "step 900, training accuracy 0.882332742214 \n",
      "step 1000, training accuracy 0.88267582655 \n",
      "validation accuracy: 0.882676\n",
      "Precision 0.475\n",
      "Recall 0.345454545455\n",
      "f1_score 0.4\n",
      "confusion_matrix\n",
      "[[2459  126]\n",
      " [ 216  114]]\n"
     ]
    }
   ],
   "source": [
    "\n",
    "\n",
    "with tf.Session() as sess1:\n",
    "    \n",
    "    tf.initialize_all_variables().run()\n",
    "    \n",
    "    for i in range(maxIter+1):\n",
    "        \n",
    "        sess1.run(optimizer, feed_dict={X: new_data, Y: new_labels})\n",
    "        \n",
    "        if i%100 == 0:\n",
    "            train_Accuracy = accuracy.eval(feed_dict={X: test_data, Y: test_labels})\n",
    "\n",
    "            print('step {0}, training accuracy {1} '.format(i, train_Accuracy))    \n",
    "\n",
    "    y_p = tf.argmax(pred, 1)\n",
    "    val_accuracy, y_pred = sess1.run([accuracy, y_p], feed_dict={X: test_data, Y: test_labels})\n",
    "\n",
    "    print \"validation accuracy:\", val_accuracy\n",
    "    y_true = np.argmax(test_labels,1)\n",
    "    print \"Precision\", precision_score(y_true, y_pred)\n",
    "    print \"Recall\", recall_score(y_true, y_pred)\n",
    "    print \"f1_score\", f1_score(y_true, y_pred)\n",
    "    print \"confusion_matrix\"\n",
    "    print confusion_matrix(y_true, y_pred)\n",
    "    fpr, tpr, tresholds = roc_curve(y_true, y_pred)\n",
    "\n",
    "\n",
    "        "
   ]
  },
  {
   "cell_type": "code",
   "execution_count": 16,
   "metadata": {
    "collapsed": false
   },
   "outputs": [
    {
     "data": {
      "text/plain": [
       "array([ 2585.,   330.])"
      ]
     },
     "execution_count": 16,
     "metadata": {},
     "output_type": "execute_result"
    }
   ],
   "source": [
    "tp = sum[]"
   ]
  },
  {
   "cell_type": "code",
   "execution_count": 24,
   "metadata": {
    "collapsed": false
   },
   "outputs": [
    {
     "data": {
      "text/plain": [
       "0.9192523364485982"
      ]
     },
     "execution_count": 24,
     "metadata": {},
     "output_type": "execute_result"
    }
   ],
   "source": [
    "2459.0/(2459+216)"
   ]
  },
  {
   "cell_type": "code",
   "execution_count": null,
   "metadata": {
    "collapsed": true
   },
   "outputs": [],
   "source": []
  },
  {
   "cell_type": "code",
   "execution_count": 18,
   "metadata": {
    "collapsed": false
   },
   "outputs": [
    {
     "data": {
      "text/plain": [
       "240"
      ]
     },
     "execution_count": 18,
     "metadata": {},
     "output_type": "execute_result"
    }
   ],
   "source": [
    "sum(y_pred)"
   ]
  },
  {
   "cell_type": "code",
   "execution_count": 19,
   "metadata": {
    "collapsed": false
   },
   "outputs": [
    {
     "data": {
      "text/plain": [
       "0.8867924528301887"
      ]
     },
     "execution_count": 19,
     "metadata": {},
     "output_type": "execute_result"
    }
   ],
   "source": [
    "2585/2915.0"
   ]
  },
  {
   "cell_type": "code",
   "execution_count": null,
   "metadata": {
    "collapsed": true
   },
   "outputs": [],
   "source": []
  }
 ],
 "metadata": {
  "kernelspec": {
   "display_name": "Python 2",
   "language": "python",
   "name": "python2"
  },
  "language_info": {
   "codemirror_mode": {
    "name": "ipython",
    "version": 2
   },
   "file_extension": ".py",
   "mimetype": "text/x-python",
   "name": "python",
   "nbconvert_exporter": "python",
   "pygments_lexer": "ipython2",
   "version": "2.7.11"
  }
 },
 "nbformat": 4,
 "nbformat_minor": 0
}
